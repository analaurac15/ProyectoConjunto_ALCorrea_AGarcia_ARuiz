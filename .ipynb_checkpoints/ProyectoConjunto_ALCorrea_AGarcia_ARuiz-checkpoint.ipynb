{
 "cells": [
  {
   "cell_type": "markdown",
   "metadata": {},
   "source": [
    "# Expectativas del Curso"
   ]
  },
  {
   "cell_type": "markdown",
   "metadata": {
    "collapsed": true
   },
   "source": [
    "    Ana Laura: Mis expectativas del curso son el poder aprender a utilizar las herramientas que GitKraken y GitHub nos proporcionan."
   ]
  },
  {
   "cell_type": "markdown",
   "metadata": {
    "collapsed": true
   },
   "source": [
    "Adrian Garcia: Lo que espero del curso es mejorar mi habilidad de programador y aprender a utilizar las herramientas de GitKraken y GitHub"
   ]
  },
  {
   "cell_type": "markdown",
   "metadata": {},
   "source": [
    ">Ecuación:\n",
    "\n",
    ">$$\\mathbf{C}\\mathbf{e}=\\frac{\\mathbf{Q}}{\\mathbf{m}(\\mathbf{Tf}-\\mathbf{Ti})}$$ "
   ]
  },
  {
   "cell_type": "code",
   "execution_count": null,
   "metadata": {
    "collapsed": true
   },
   "outputs": [],
   "source": []
  }
 ],
 "metadata": {
  "kernelspec": {
   "display_name": "Python 3",
   "language": "python",
   "name": "python3"
  },
  "language_info": {
   "codemirror_mode": {
    "name": "ipython",
    "version": 3
   },
   "file_extension": ".py",
   "mimetype": "text/x-python",
   "name": "python",
   "nbconvert_exporter": "python",
   "pygments_lexer": "ipython3",
   "version": "3.6.1"
  }
 },
 "nbformat": 4,
 "nbformat_minor": 2
}
